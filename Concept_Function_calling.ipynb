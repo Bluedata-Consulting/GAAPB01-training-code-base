{
 "cells": [
  {
   "cell_type": "markdown",
   "id": "2cbda8f1",
   "metadata": {},
   "source": [
    "## Function Calling / Tool Calling"
   ]
  },
  {
   "cell_type": "code",
   "execution_count": 1,
   "id": "e834b97e",
   "metadata": {},
   "outputs": [],
   "source": [
    "from openai import AzureOpenAI\n",
    "\n",
    "client = AzureOpenAI(api_version=\"2024-12-01-preview\")"
   ]
  },
  {
   "cell_type": "code",
   "execution_count": null,
   "id": "7e5cfff5",
   "metadata": {},
   "outputs": [],
   "source": [
    "response = client.chat.completions.create(model='telcogpt',\n",
    "                                          messages=[{'role':'user',\n",
    "                                                    'content':'Explain Quantum Computing in 2 lines'}],\n",
    "                                        temperature=0.2)\n",
    "\n",
    "print(response.to_json(indent=2))\n"
   ]
  },
  {
   "cell_type": "code",
   "execution_count": 9,
   "id": "c38e8c14",
   "metadata": {},
   "outputs": [],
   "source": [
    "\n",
    "import requests,json\n",
    "def get_current_weather(city:str)->dict:\n",
    "    \"\"\" can be used to get/fetch current weather information for a city name\n",
    "    \"\"\"\n",
    "    api_key = \"6a8b0ac166a37e2b7a38e64416b3c3fe\"\n",
    "\n",
    "    url = f\"https://api.openweathermap.org/data/2.5/weather?q={city}&appid={api_key}\"\n",
    "    response = requests.get(url)\n",
    "    response = response.content.decode()\n",
    "    response = json.loads(response)\n",
    "    output = {\"City Name\":city,\"weather\":response[\"weather\"][0]['description'],\n",
    "              \"temperature\":response['main']['temp'],\n",
    "              \"unit\":\"kelvin\"}\n",
    "\n",
    "    return output\n"
   ]
  },
  {
   "cell_type": "code",
   "execution_count": 10,
   "id": "30ed1cd9",
   "metadata": {},
   "outputs": [
    {
     "data": {
      "text/plain": [
       "{'City Name': 'mumbai',\n",
       " 'weather': 'clear sky',\n",
       " 'temperature': 303.26,\n",
       " 'unit': 'kelvin'}"
      ]
     },
     "execution_count": 10,
     "metadata": {},
     "output_type": "execute_result"
    }
   ],
   "source": [
    "get_current_weather(\"mumbai\")"
   ]
  },
  {
   "cell_type": "code",
   "execution_count": 13,
   "id": "e134b00e",
   "metadata": {},
   "outputs": [],
   "source": [
    "# name, description, parameters (also desc for parameters)\n",
    "\n",
    "tools = [{\"type\":\"function\",\n",
    "          \"function\":{\n",
    "              \"name\":\"get_current_weather_info\",\n",
    "              \"description\":\"this function is used to get the current weather information for a given city\",\n",
    "              \"parameters\":{\n",
    "                  \"type\":\"object\",\n",
    "                  \"properties\":{\"city\":{\"type\":\"string\",\"description\":\"name of location/city, e.g. mumbai, new york\"}}\n",
    "\n",
    "              },\n",
    "              \"required\":['city'],\n",
    "          }}]"
   ]
  },
  {
   "cell_type": "code",
   "execution_count": 24,
   "id": "b94d1e87",
   "metadata": {},
   "outputs": [],
   "source": [
    "def generate_response(prompt):\n",
    "\n",
    "    messages = [{\"role\":\"system\",\"content\":\"you are a helpful asistant\"},\n",
    "                {\"role\":\"user\",\"content\":prompt}]\n",
    "    first_response = client.chat.completions.create(model='telcogpt',\n",
    "                                                    messages=messages,\n",
    "                                                    temperature=0.1,tools=tools,\n",
    "                                                    tool_choice='auto')\n",
    "    \n",
    "    if first_response.choices[0].message.tool_calls:\n",
    "        print(first_response.choices[0].message.tool_calls)\n",
    "        tool_calls = first_response.choices[0].message.tool_calls\n",
    "        tool_map = {\"get_current_weather_info\":get_current_weather}\n",
    "        messages.append(first_response.choices[0].message)\n",
    "        for tool in tool_calls:\n",
    "            tool_name = tool.function.name # fetching the function name (metadata reference)\n",
    "            tool_args = json.loads(tool.function.arguments) # fetching funciton arguments\n",
    "            function_to_ex = tool_map[tool_name] # getting the tool name\n",
    "            tool_output = function_to_ex(**tool_args) # executing the function\n",
    "            messages.append({\"tool_call_id\":tool.id,\"role\":\"tool\",\"name\":tool_name,\n",
    "                             \"content\":json.dumps(tool_output)})\n",
    "        second_response = client.chat.completions.create(model=\"telcogpt\",messages=messages,\n",
    "                                                         temperature=0.1)\n",
    "        return second_response.choices[0].message.content\n",
    "\n",
    "    else:\n",
    "        return first_response.choices[0].message.content"
   ]
  },
  {
   "cell_type": "code",
   "execution_count": 25,
   "id": "22c48d36",
   "metadata": {},
   "outputs": [
    {
     "name": "stdout",
     "output_type": "stream",
     "text": [
      "[ChatCompletionMessageToolCall(id='call_Xnnb605u70kq2nPwMbAxCLpz', function=Function(arguments='{\"city\":\"mumbai\"}', name='get_current_weather_info'), type='function')]\n",
      "The current weather in Mumbai is clear sky with a temperature of approximately 303.26 K (about 30.1 °C).\n"
     ]
    }
   ],
   "source": [
    "resp = generate_response(\"what is the current weather in mumbai\")\n",
    "print(resp)"
   ]
  },
  {
   "cell_type": "code",
   "execution_count": 26,
   "id": "42ca6c9a",
   "metadata": {},
   "outputs": [
    {
     "name": "stdout",
     "output_type": "stream",
     "text": [
      "Quantum computing is a type of computation that takes advantage of the principles of quantum mechanics to process information in fundamentally different ways than classical computers. Here are some key concepts:\n",
      "\n",
      "1. **Quantum Bits (Qubits)**: Unlike classical bits, which can be either 0 or 1, qubits can exist in a state of superposition, meaning they can be both 0 and 1 simultaneously. This allows quantum computers to process a vast amount of information at once.\n",
      "\n",
      "2. **Superposition**: This principle allows qubits to be in multiple states at the same time. When a qubit is in superposition, it can perform multiple calculations simultaneously, which can lead to faster problem-solving for certain tasks.\n",
      "\n",
      "3. **Entanglement**: Qubits can be entangled, meaning the state of one qubit is directly related to the state of another, no matter the distance between them. This property can be used to link qubits in complex ways, enabling more powerful computations.\n",
      "\n",
      "4. **Quantum Gates**: Quantum computers use quantum gates to manipulate qubits. These gates perform operations on qubits, similar to how classical logic gates operate on bits.\n",
      "\n",
      "5. **Quantum Algorithms**: Certain algorithms, like Shor's algorithm for factoring large numbers and Grover's algorithm for searching unsorted databases, can run exponentially faster on quantum computers than their classical counterparts.\n",
      "\n",
      "6. **Applications**: Quantum computing has potential applications in various fields, including cryptography, optimization problems, drug discovery, and complex system simulations.\n",
      "\n",
      "Quantum computing is still in its early stages, with ongoing research and development aimed at building practical and scalable quantum computers.\n"
     ]
    }
   ],
   "source": [
    "resp = generate_response(\"what is quantum computing\")\n",
    "print(resp)"
   ]
  },
  {
   "cell_type": "code",
   "execution_count": null,
   "id": "5a090e6d",
   "metadata": {},
   "outputs": [],
   "source": [
    "resp = generate_response(\"what is the current weather in mumbai and London\")\n",
    "print(resp)"
   ]
  },
  {
   "cell_type": "code",
   "execution_count": null,
   "id": "16de8f33",
   "metadata": {},
   "outputs": [],
   "source": []
  }
 ],
 "metadata": {
  "kernelspec": {
   "display_name": "gen-ai",
   "language": "python",
   "name": "python3"
  },
  "language_info": {
   "codemirror_mode": {
    "name": "ipython",
    "version": 3
   },
   "file_extension": ".py",
   "mimetype": "text/x-python",
   "name": "python",
   "nbconvert_exporter": "python",
   "pygments_lexer": "ipython3",
   "version": "3.12.3"
  }
 },
 "nbformat": 4,
 "nbformat_minor": 5
}
