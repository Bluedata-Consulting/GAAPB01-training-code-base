{
 "cells": [
  {
   "cell_type": "markdown",
   "id": "2cbda8f1",
   "metadata": {},
   "source": [
    "## Function Calling / Tool Calling"
   ]
  },
  {
   "cell_type": "code",
   "execution_count": 1,
   "id": "e834b97e",
   "metadata": {},
   "outputs": [],
   "source": [
    "from openai import AzureOpenAI\n",
    "\n",
    "client = AzureOpenAI(api_version=\"2024-12-01-preview\")"
   ]
  },
  {
   "cell_type": "code",
   "execution_count": null,
   "id": "7e5cfff5",
   "metadata": {},
   "outputs": [],
   "source": [
    "response = client.chat.completions.create(model='telcogpt',\n",
    "                                          messages=[{'role':'user',\n",
    "                                                    'content':'Explain Quantum Computing in 2 lines'}],\n",
    "                                        temperature=0.2)\n",
    "\n",
    "print(response.to_json(indent=2))\n"
   ]
  },
  {
   "cell_type": "code",
   "execution_count": 9,
   "id": "c38e8c14",
   "metadata": {},
   "outputs": [],
   "source": [
    "\n",
    "import requests,json\n",
    "def get_current_weather(city:str)->dict:\n",
    "    \"\"\" can be used to get/fetch current weather information for a city name\n",
    "    \"\"\"\n",
    "    api_key = \"6a8b0ac166a37e2b7a38e64416b3c3fe\"\n",
    "\n",
    "    url = f\"https://api.openweathermap.org/data/2.5/weather?q={city}&appid={api_key}\"\n",
    "    response = requests.get(url)\n",
    "    response = response.content.decode()\n",
    "    response = json.loads(response)\n",
    "    output = {\"City Name\":city,\"weather\":response[\"weather\"][0]['description'],\n",
    "              \"temperature\":response['main']['temp'],\n",
    "              \"unit\":\"kelvin\"}\n",
    "\n",
    "    return output\n"
   ]
  },
  {
   "cell_type": "code",
   "execution_count": 10,
   "id": "30ed1cd9",
   "metadata": {},
   "outputs": [
    {
     "data": {
      "text/plain": [
       "{'City Name': 'mumbai',\n",
       " 'weather': 'clear sky',\n",
       " 'temperature': 303.26,\n",
       " 'unit': 'kelvin'}"
      ]
     },
     "execution_count": 10,
     "metadata": {},
     "output_type": "execute_result"
    }
   ],
   "source": [
    "get_current_weather(\"mumbai\")"
   ]
  },
  {
   "cell_type": "code",
   "execution_count": null,
   "id": "e134b00e",
   "metadata": {},
   "outputs": [],
   "source": []
  }
 ],
 "metadata": {
  "kernelspec": {
   "display_name": "gen-ai",
   "language": "python",
   "name": "python3"
  },
  "language_info": {
   "codemirror_mode": {
    "name": "ipython",
    "version": 3
   },
   "file_extension": ".py",
   "mimetype": "text/x-python",
   "name": "python",
   "nbconvert_exporter": "python",
   "pygments_lexer": "ipython3",
   "version": "3.12.3"
  }
 },
 "nbformat": 4,
 "nbformat_minor": 5
}
